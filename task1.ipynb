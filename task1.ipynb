{
 "cells": [
  {
   "cell_type": "code",
   "execution_count": 131,
   "metadata": {},
   "outputs": [],
   "source": [
    "import numpy as np # linear algebra\n",
    "import pandas as pd # data processing, CSV file I/O (e.g. pd.read_csv)\n",
    "from sklearn.model_selection import train_test_split\n",
    "from sklearn.model_selection import cross_validate\n",
    "from sklearn.model_selection import KFold\n",
    "from sklearn.ensemble import RandomForestClassifier\n",
    "from sklearn.model_selection import train_test_split\n",
    "from sklearn import metrics\n",
    "from sklearn.tree import DecisionTreeClassifier\n",
    "from sklearn.metrics import accuracy_score\n",
    "from sklearn import tree\n",
    "from fpdf import FPDF\n",
    "import matplotlib.pyplot as plt\n",
    "import seaborn as sns\n",
    "import matplotlib.pyplot as plt\n",
    "from sklearn.tree import plot_tree"
   ]
  },
  {
   "cell_type": "code",
   "execution_count": 132,
   "metadata": {},
   "outputs": [
    {
     "name": "stdout",
     "output_type": "stream",
     "text": [
      "accuracy for Experiment  0  :  0.9183673469387755\n",
      "size Experiment  0  :  31\n",
      " \n",
      "accuracy for Experiment  1  :  0.9591836734693877\n",
      "size Experiment  1  :  35\n",
      " \n",
      "accuracy for Experiment  2  :  0.956268221574344\n",
      "size Experiment  2  :  27\n",
      " \n",
      "accuracy for Experiment  3  :  0.9805636540330418\n",
      "size Experiment  3  :  31\n",
      " \n",
      "accuracy for Experiment  4  :  0.9689018464528668\n",
      "size Experiment  4  :  33\n",
      " \n"
     ]
    }
   ],
   "source": [
    "\n",
    "\n",
    "accArray1=[]\n",
    "TreSizeArray1=[]\n",
    "for r in range(5):\n",
    "    data = pd.read_csv(r'BankNote_Authentication.csv')\n",
    "    df=pd.DataFrame(data)\n",
    "    dataset=df[['variance','skewness','curtosis','entropy']]\n",
    "    x=dataset.copy()\n",
    "    y=data['class']\n",
    "    clf=DecisionTreeClassifier()\n",
    "    x_train,x_test,y_train,y_test =train_test_split(x,y,test_size=0.75)\n",
    "    cld=clf.fit(x_train,y_train)\n",
    "    predections=clf.predict(x_test)\n",
    "    print(\"accuracy for Experiment \" ,r,\" : \", accuracy_score(y_test,predections))\n",
    "    accArray1.append(accuracy_score(y_test,predections))    \n",
    "\n",
    "    treeSize = clf.tree_.node_count\n",
    "    TreSizeArray1.append(treeSize)    \n",
    "\n",
    "    print(\"size Experiment \" ,r,\" : \", treeSize)\n",
    "    print(\" \")"
   ]
  },
  {
   "cell_type": "code",
   "execution_count": 133,
   "metadata": {},
   "outputs": [
    {
     "name": "stdout",
     "output_type": "stream",
     "text": [
      "training set size : 30.000000000000004 %\n",
      "accuracy of Experiment  0  :  0.9667013527575442\n",
      "size of Experiment  0  :  23\n",
      " \n",
      "training set size : 40.0 %\n",
      "accuracy of Experiment  1  :  0.9890776699029126\n",
      "size of Experiment  1  :  37\n",
      " \n",
      "training set size : 50.0 %\n",
      "accuracy of Experiment  2  :  0.9737609329446064\n",
      "size of Experiment  2  :  39\n",
      " \n",
      "training set size : 60.0 %\n",
      "accuracy of Experiment  3  :  0.9836065573770492\n",
      "size of Experiment  3  :  47\n",
      " \n",
      "training set size : 70.0 %\n",
      "accuracy of Experiment  4  :  0.9854368932038835\n",
      "size of Experiment  4  :  51\n",
      " \n",
      "accuracies Mean:  0.9797166812371991 accuracies Max:  0.9890776699029126 accuracies Min:  0.9667013527575442\n",
      "Tree Size Mean:  39.4 Tree Size Max:  51 Tree Size Min:  23\n"
     ]
    }
   ],
   "source": [
    "arr=[0.7,0.6,0.5,0.4,0.3]\n",
    "accArray=[]\n",
    "TreSizeArray=[]\n",
    "\n",
    "for r in range(5):\n",
    "    data = pd.read_csv(r'BankNote_Authentication.csv')\n",
    "    df=pd.DataFrame(data)\n",
    "    dataset=df[['variance','skewness','curtosis','entropy']]\n",
    "    x=dataset.copy()\n",
    "    y=data['class']\n",
    "    clf=DecisionTreeClassifier()\n",
    "    x_train,x_test,y_train,y_test =train_test_split(x,y,test_size=arr[r])\n",
    "    print(\"training set size :\" ,(1-arr[r])*100,\"%\")\n",
    "    cld=clf.fit(x_train,y_train)\n",
    "    predections=clf.predict(x_test)\n",
    "    print(\"accuracy of Experiment \" ,r,\" : \", accuracy_score(y_test,predections))\n",
    "    accArray.append(accuracy_score(y_test,predections))    \n",
    "    treeSize = clf.tree_.node_count\n",
    "    TreSizeArray.append(treeSize)    \n",
    "    print(\"size of Experiment \" ,r,\" : \", treeSize)\n",
    "    print(\" \")\n",
    "\n",
    "AccMean=np.mean(accArray)\n",
    "AccMax=np.max(accArray)\n",
    "AccMin=np.min(accArray)\n",
    "\n",
    "SizeMean=np.mean(TreSizeArray)\n",
    "SizeMax=np.max(TreSizeArray)\n",
    "SizeMin=np.min(TreSizeArray)\n",
    "\n",
    "print(\"accuracies Mean: \" ,AccMean,\"accuracies Max: \", AccMax,\"accuracies Min: \", AccMin)\n",
    "print(\"Tree Size Mean: \" ,SizeMean,\"Tree Size Max: \", SizeMax,\"Tree Size Min: \", SizeMin)\n"
   ]
  },
  {
   "cell_type": "code",
   "execution_count": null,
   "metadata": {},
   "outputs": [],
   "source": [
    "plt.figure(0)\n",
    "plt.plot([0.3,0.4,0.5,0.6,0.7], AccMean)\n",
    "plt.title('Accuracy against  training set size ')\n",
    "plt.xlabel('Train training set Size')\n",
    "plt.ylabel('Accuracy')\n",
    "\n",
    "plt.figure(1)\n",
    "plt.plot([0.3,0.4,0.5,0.6,0.7], SizeMean)\n",
    "plt.title('Number of nodes in the final tree against training set size')\n",
    "plt.xlabel('Train Size')\n",
    "plt.ylabel('Num of Nodes')"
   ]
  },
  {
   "cell_type": "code",
   "execution_count": 134,
   "metadata": {},
   "outputs": [
    {
     "data": {
      "text/plain": [
       "''"
      ]
     },
     "execution_count": 134,
     "metadata": {},
     "output_type": "execute_result"
    }
   ],
   "source": [
    "\n",
    "ch = 20\n",
    "m = 10 \n",
    "pw = 210 - 2 \n",
    "\n",
    "pdf = FPDF()\n",
    "pdf.add_page()\n",
    "\n",
    "pdf.set_font('Arial', 'B', 24)\n",
    "pdf.cell(w=0, h=20, txt=\"Report for the Second Requirment\", ln=1)\n",
    "pdf.set_font('Arial', '', 10)\n",
    "pdf.cell(w=0, h=ch, txt=\"Experiment 1\"+\"    training set size : 30%\"+\"    Accuracy : \"+str(accArray[0]) +\"    Tree Size :\"+str(TreSizeArray[0]) , border=1, ln=1)\n",
    "pdf.cell(w=0, h=ch, txt=\"Experiment 2\"+\"    training set size : 40%\"+\"    Accuracy : \"+str(accArray[1]) +\"    Tree Size :\"+str(TreSizeArray[1]) , border=1, ln=1)\n",
    "pdf.cell(w=0, h=ch, txt=\"Experiment 3\"+\"    training set size : 50%\"+\"    Accuracy : \"+str(accArray[2]) +\"    Tree Size :\"+str(TreSizeArray[2]) , border=1, ln=1)\n",
    "pdf.cell(w=0, h=ch, txt=\"Experiment 4\"+\"    training set size : 60%\"+\"    Accuracy : \"+str(accArray[3]) +\"    Tree Size :\"+str(TreSizeArray[3]) , border=1, ln=1)\n",
    "pdf.cell(w=0, h=ch, txt=\"Experiment 5\"+\"    training set size : 70%\"+\"    Accuracy : \"+str(accArray[4]) +\"    Tree Size :\"+str(TreSizeArray[4]) , border=1, ln=1)\n",
    "pdf.cell(w=0, h=ch, txt=\"accuracies Mean: \"+str(AccMean)+\"     accuracies Max:\"+str(AccMax)+\"    accuracies Min:\"+str(AccMin) , border=1, ln=1)\n",
    "pdf.cell(w=0, h=ch, txt=\"Tree Size Mean: \"+str(SizeMean)+\"     Tree Size Max:\"+str(SizeMax)+\"    Tree Size Min:\"+str(SizeMin) , border=1, ln=1)\n",
    "pdf.ln(ch)\n",
    "pdf.multi_cell(w=0, h=10)\n",
    "\n",
    "\n",
    "pdf.output(f'./ML-Report for Second Req.pdf', 'F')"
   ]
  },
  {
   "cell_type": "code",
   "execution_count": 135,
   "metadata": {},
   "outputs": [
    {
     "data": {
      "text/plain": [
       "''"
      ]
     },
     "execution_count": 135,
     "metadata": {},
     "output_type": "execute_result"
    }
   ],
   "source": [
    "pdf = FPDF()\n",
    "pdf.add_page()\n",
    "\n",
    "pdf.set_font('Arial', 'B', 24)\n",
    "pdf.cell(w=0, h=20, txt=\"Report for the First Requirment\", ln=1)\n",
    "pdf.set_font('Arial', '', 10)\n",
    "\n",
    "pdf.cell(w=0, h=ch, txt=\"Experiment 1\"+\"    training set size : 25%\"+\"    Accuracy : \"+str(accArray1[0]) +\"    Tree Size :\"+str(TreSizeArray1[0]) , border=1, ln=1)\n",
    "pdf.cell(w=0, h=ch, txt=\"Experiment 2\"+\"    training set size : 25%\"+\"    Accuracy : \"+str(accArray1[1]) +\"    Tree Size :\"+str(TreSizeArray1[1]) , border=1, ln=1)\n",
    "pdf.cell(w=0, h=ch, txt=\"Experiment 3\"+\"    training set size : 25%\"+\"    Accuracy : \"+str(accArray1[2]) +\"    Tree Size :\"+str(TreSizeArray1[2]) , border=1, ln=1)\n",
    "pdf.cell(w=0, h=ch, txt=\"Experiment 4\"+\"    training set size : 25%\"+\"    Accuracy : \"+str(accArray1[3]) +\"    Tree Size :\"+str(TreSizeArray1[3]) , border=1, ln=1)\n",
    "pdf.cell(w=0, h=ch, txt=\"Experiment 5\"+\"    training set size : 25%\"+\"    Accuracy : \"+str(accArray1[4]) +\"    Tree Size :\"+str(TreSizeArray1[4]) , border=1, ln=1)\n",
    "\n",
    "pdf.ln(ch)\n",
    "pdf.multi_cell(w=0, h=10)\n",
    "\n",
    "\n",
    "pdf.output(f'./ML-Report for First Req.pdf', 'F')"
   ]
  },
  {
   "cell_type": "code",
   "execution_count": null,
   "metadata": {},
   "outputs": [],
   "source": []
  },
  {
   "cell_type": "code",
   "execution_count": null,
   "metadata": {},
   "outputs": [],
   "source": []
  },
  {
   "cell_type": "code",
   "execution_count": null,
   "metadata": {},
   "outputs": [],
   "source": []
  },
  {
   "cell_type": "code",
   "execution_count": null,
   "metadata": {},
   "outputs": [],
   "source": [
    "\n"
   ]
  },
  {
   "cell_type": "code",
   "execution_count": null,
   "metadata": {},
   "outputs": [],
   "source": []
  }
 ],
 "metadata": {
  "kernelspec": {
   "display_name": "Python 3",
   "language": "python",
   "name": "python3"
  },
  "language_info": {
   "codemirror_mode": {
    "name": "ipython",
    "version": 3
   },
   "file_extension": ".py",
   "mimetype": "text/x-python",
   "name": "python",
   "nbconvert_exporter": "python",
   "pygments_lexer": "ipython3",
   "version": "3.10.5"
  },
  "orig_nbformat": 4,
  "vscode": {
   "interpreter": {
    "hash": "afb734500600fd355917ca529030176ea0ca205570884b88f2f6f7d791fd3fbe"
   }
  }
 },
 "nbformat": 4,
 "nbformat_minor": 2
}
